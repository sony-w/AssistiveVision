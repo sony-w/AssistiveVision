{
 "cells": [
  {
   "cell_type": "code",
   "execution_count": 1,
   "metadata": {},
   "outputs": [
    {
     "name": "stderr",
     "output_type": "stream",
     "text": [
      "/opt/conda/lib/python3.7/site-packages/tqdm/std.py:658: FutureWarning: The Panel class is removed from pandas. Accessing it from the top-level namespace will also be removed in the next version\n",
      "  from pandas import Panel\n"
     ]
    }
   ],
   "source": [
    "import os\n",
    "import pandas as pd\n",
    "import numpy as np\n",
    "import multiprocessing as mp\n",
    "import boto3\n",
    "import json\n",
    "\n",
    "from loader import vizwiz as vw\n",
    "from loader import images as im\n",
    "from itertools import repeat\n",
    "from IPython.core.display import HTML\n",
    "\n",
    "\n",
    "from tqdm import tqdm\n",
    "tqdm.pandas()\n",
    "\n",
    "# %pip install opencv-python-headless"
   ]
  },
  {
   "cell_type": "code",
   "execution_count": 2,
   "metadata": {},
   "outputs": [],
   "source": [
    "#%pip install opencv-python-headless"
   ]
  },
  {
   "cell_type": "markdown",
   "metadata": {},
   "source": [
    "### Analyzing the train data"
   ]
  },
  {
   "cell_type": "code",
   "execution_count": 4,
   "metadata": {},
   "outputs": [
    {
     "name": "stdout",
     "output_type": "stream",
     "text": [
      "loading annotations into memory...\n",
      "Done (t=0.31s)\n",
      "creating index...\n",
      "index created! imgs = 23431, anns = 100575\n"
     ]
    }
   ],
   "source": [
    "vizwiz = vw.VizWiz(annotation_file='annotations/train.json')"
   ]
  },
  {
   "cell_type": "code",
   "execution_count": 5,
   "metadata": {},
   "outputs": [],
   "source": [
    "vizwiz_df = pd.DataFrame.from_dict(vizwiz.dataset['annotations'], orient='columns')\n",
    "vizwiz_images_df = pd.DataFrame.from_dict(vizwiz.dataset['images'], orient='columns')\n",
    "\n",
    "vizwiz_df = vizwiz_df.merge(vizwiz_images_df.rename({'id': 'image_id', 'text_detected': 'image_text_detected'}, axis=1), \n",
    "                            on='image_id', how='left')"
   ]
  },
  {
   "cell_type": "code",
   "execution_count": 6,
   "metadata": {},
   "outputs": [],
   "source": [
    "# caption counts for each image\n",
    "vizwiz_df['captions_count'] = vizwiz_df.groupby(by=['image_id'])['caption'].transform('count')\n",
    "\n",
    "# word counts for each caption\n",
    "vizwiz_df['words_count'] = vizwiz_df['caption'].str.split().apply(len)\n",
    "\n",
    "# https://stackoverflow.com/questions/61299310/pandas-groupby-with-custom-function-to-return-the-column-values-as-an-array"
   ]
  },
  {
   "cell_type": "code",
   "execution_count": null,
   "metadata": {},
   "outputs": [],
   "source": [
    "%%time\n",
    "\n",
    "# create df with unique image id and file name\n",
    "cols = ['image_id', 'file_name']\n",
    "vizwiz_unique = vizwiz_df.groupby(by=cols, as_index=False).first()[cols]\n",
    "\n",
    "# find dimension for each image\n",
    "bucket = 'assistive-vision'\n",
    "train_imgs = 'vizwiz/train'\n",
    "\n",
    "json_file = 'TextCaps/annotations/TextCaps_0.1_train.json'\n",
    "s3 = boto3.client(\"s3\")\n",
    "response = s3.get_object(Bucket=bucket, Key=json_file)['Body']\n",
    "print(response.read().decode('utf-8'))\n",
    "json_content = json.loads(response)\n",
    "\n",
    "\n",
    "#images = im.ImageS3(bucket)\n",
    "\n",
    "#def dimension(path, f):\n",
    "#    fpath = ''.join([path, '/', f])\n",
    "#    img = images.getImage(fpath)\n",
    "#    return img.shape\n",
    "\n",
    "#vizwiz_unique['shape'] = vizwiz_unique['file_name'].progress_apply(lambda f: dimension(f))\n",
    "\n",
    "# parallelize the tasks to available cpu cores\n",
    "#with mp.Pool(mp.cpu_count()) as pool:\n",
    "#    vizwiz_unique['shape'] = pool.starmap(dimension, zip(repeat(train_imgs), vizwiz_unique['file_name']))"
   ]
  }
 ],
 "metadata": {
  "instance_type": "ml.t3.medium",
  "kernelspec": {
   "display_name": "Python 3 (Data Science)",
   "language": "python",
   "name": "python3__SAGEMAKER_INTERNAL__arn:aws:sagemaker:us-east-1:081325390199:image/datascience-1.0"
  },
  "language_info": {
   "codemirror_mode": {
    "name": "ipython",
    "version": 3
   },
   "file_extension": ".py",
   "mimetype": "text/x-python",
   "name": "python",
   "nbconvert_exporter": "python",
   "pygments_lexer": "ipython3",
   "version": "3.7.10"
  }
 },
 "nbformat": 4,
 "nbformat_minor": 4
}
