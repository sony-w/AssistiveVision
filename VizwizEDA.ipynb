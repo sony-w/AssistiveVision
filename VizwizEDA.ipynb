{
 "cells": [
  {
   "cell_type": "code",
   "execution_count": 15,
   "metadata": {},
   "outputs": [],
   "source": [
    "import os\n",
    "import pandas as pd\n",
    "import numpy as np\n",
    "import logging\n",
    "import multiprocessing as mp\n",
    "\n",
    "from commons import vizwiz as vw\n",
    "from commons import images as im\n",
    "from IPython.core.display import HTML\n",
    "\n",
    "from tqdm import tqdm\n",
    "tqdm.pandas()\n",
    "\n",
    "# %pip install opencv-python-headless"
   ]
  },
  {
   "cell_type": "code",
   "execution_count": 2,
   "metadata": {},
   "outputs": [
    {
     "name": "stdout",
     "output_type": "stream",
     "text": [
      "loading annotations into memory...\n",
      "Done (t=0.57s)\n",
      "creating index...\n",
      "index created! imgs = 23431, anns = 100575\n"
     ]
    }
   ],
   "source": [
    "vizwiz = vw.VizWiz(annotation_file='annotations/train.json')"
   ]
  },
  {
   "cell_type": "code",
   "execution_count": 20,
   "metadata": {},
   "outputs": [],
   "source": [
    "vizwiz_df = pd.DataFrame.from_dict(vizwiz.dataset['annotations'], orient='columns')\n",
    "vizwiz_images_df = pd.DataFrame.from_dict(vizwiz.dataset['images'], orient='columns')\n",
    "\n",
    "vizwiz_df = vizwiz_df.merge(vizwiz_images_df.rename({'id': 'image_id', 'text_detected': 'image_text_detected'}, axis=1), \n",
    "                            on='image_id', how='left')"
   ]
  },
  {
   "cell_type": "code",
   "execution_count": 21,
   "metadata": {},
   "outputs": [],
   "source": [
    "# word counts for each caption\n",
    "vizwiz_df['words_count'] = vizwiz_df['caption'].str.split().apply(len)\n",
    "\n",
    "# https://stackoverflow.com/questions/61299310/pandas-groupby-with-custom-function-to-return-the-column-values-as-an-array"
   ]
  },
  {
   "cell_type": "code",
   "execution_count": 16,
   "metadata": {},
   "outputs": [],
   "source": [
    "%%time\n",
    "\n",
    "# create df with unique image id and file name\n",
    "cols = ['image_id', 'file_name']\n",
    "vizwiz_unique = vizwiz_df.groupby(by=cols, as_index=False).first()[cols]\n",
    "\n",
    "# find dimension for each image\n",
    "bucket = 'assistive-vision'\n",
    "train_imgs = 'vizwiz/train'\n",
    "\n",
    "images = im.ImageS3(bucket)\n",
    "\n",
    "def dimension(f):\n",
    "    fpath = ''.join([train_imgs, '/', f])\n",
    "    img = images.getImage(fpath)\n",
    "    return img.shape\n",
    "\n",
    "#vizwiz_unique['shape'] = vizwiz_unique['file_name'].progress_apply(lambda f: dimension(f))\n",
    "\n",
    "# parallelize the tasks to all cpu cores\n",
    "with mp.Pool(mp.cpu_count()) as pool:\n",
    "    vizwiz_unique['shape'] = pool.map(dimension, vizwiz_unique['file_name'])"
   ]
  },
  {
   "cell_type": "code",
   "execution_count": 23,
   "metadata": {},
   "outputs": [],
   "source": [
    "\n",
    "vizwiz_unique.drop(columns=['file_name'], inplace=True)\n",
    "vizwiz_df = vizwiz_df.merge(vizwiz_unique, on='image_id', how='left')\n"
   ]
  },
  {
   "cell_type": "code",
   "execution_count": 28,
   "metadata": {},
   "outputs": [
    {
     "data": {
      "text/html": [
       "<table border=\"1\" class=\"dataframe\">\n",
       "  <thead>\n",
       "    <tr style=\"text-align: right;\">\n",
       "      <th></th>\n",
       "      <th>caption</th>\n",
       "      <th>image_id</th>\n",
       "      <th>is_precanned</th>\n",
       "      <th>is_rejected</th>\n",
       "      <th>id</th>\n",
       "      <th>text_detected</th>\n",
       "      <th>file_name</th>\n",
       "      <th>vizwiz_url</th>\n",
       "      <th>image_text_detected</th>\n",
       "      <th>words_count</th>\n",
       "      <th>shape</th>\n",
       "    </tr>\n",
       "  </thead>\n",
       "  <tbody>\n",
       "    <tr>\n",
       "      <th>0</th>\n",
       "      <td>ITS IS A BASIL LEAVES CONTAINER ITS CONTAINS THE NET WEIGHT TOO.</td>\n",
       "      <td>0</td>\n",
       "      <td>False</td>\n",
       "      <td>False</td>\n",
       "      <td>0</td>\n",
       "      <td>True</td>\n",
       "      <td>VizWiz_train_00000000.jpg</td>\n",
       "      <td>https://ivc.ischool.utexas.edu/VizWiz_visualization_img/VizWiz_train_00000000.jpg</td>\n",
       "      <td>True</td>\n",
       "      <td>12</td>\n",
       "      <td>(1632, 1224, 3)</td>\n",
       "    </tr>\n",
       "    <tr>\n",
       "      <th>1</th>\n",
       "      <td>A green and white plastic condiment bottle containing Basil leaves.</td>\n",
       "      <td>0</td>\n",
       "      <td>False</td>\n",
       "      <td>False</td>\n",
       "      <td>1</td>\n",
       "      <td>True</td>\n",
       "      <td>VizWiz_train_00000000.jpg</td>\n",
       "      <td>https://ivc.ischool.utexas.edu/VizWiz_visualization_img/VizWiz_train_00000000.jpg</td>\n",
       "      <td>True</td>\n",
       "      <td>10</td>\n",
       "      <td>(1632, 1224, 3)</td>\n",
       "    </tr>\n",
       "    <tr>\n",
       "      <th>2</th>\n",
       "      <td>A bottle of spices in a plastic container laying on a surface.</td>\n",
       "      <td>0</td>\n",
       "      <td>False</td>\n",
       "      <td>False</td>\n",
       "      <td>3</td>\n",
       "      <td>True</td>\n",
       "      <td>VizWiz_train_00000000.jpg</td>\n",
       "      <td>https://ivc.ischool.utexas.edu/VizWiz_visualization_img/VizWiz_train_00000000.jpg</td>\n",
       "      <td>True</td>\n",
       "      <td>12</td>\n",
       "      <td>(1632, 1224, 3)</td>\n",
       "    </tr>\n",
       "    <tr>\n",
       "      <th>3</th>\n",
       "      <td>some basil leaves in a container on a counter</td>\n",
       "      <td>0</td>\n",
       "      <td>False</td>\n",
       "      <td>False</td>\n",
       "      <td>4</td>\n",
       "      <td>True</td>\n",
       "      <td>VizWiz_train_00000000.jpg</td>\n",
       "      <td>https://ivc.ischool.utexas.edu/VizWiz_visualization_img/VizWiz_train_00000000.jpg</td>\n",
       "      <td>True</td>\n",
       "      <td>9</td>\n",
       "      <td>(1632, 1224, 3)</td>\n",
       "    </tr>\n",
       "    <tr>\n",
       "      <th>4</th>\n",
       "      <td>A can of Coca Cola on a counter is shown for when one can use a nice, cold drink.</td>\n",
       "      <td>1</td>\n",
       "      <td>False</td>\n",
       "      <td>False</td>\n",
       "      <td>5</td>\n",
       "      <td>True</td>\n",
       "      <td>VizWiz_train_00000001.jpg</td>\n",
       "      <td>https://ivc.ischool.utexas.edu/VizWiz_visualization_img/VizWiz_train_00000001.jpg</td>\n",
       "      <td>True</td>\n",
       "      <td>19</td>\n",
       "      <td>(1296, 968, 3)</td>\n",
       "    </tr>\n",
       "  </tbody>\n",
       "</table>"
      ],
      "text/plain": [
       "<IPython.core.display.HTML object>"
      ]
     },
     "metadata": {},
     "output_type": "display_data"
    }
   ],
   "source": [
    "display(HTML(vizwiz_df.head().to_html()))"
   ]
  }
 ],
 "metadata": {
  "instance_type": "ml.t3.medium",
  "kernelspec": {
   "display_name": "Python 3 (Data Science)",
   "language": "python",
   "name": "python3__SAGEMAKER_INTERNAL__arn:aws:sagemaker:us-east-1:081325390199:image/datascience-1.0"
  },
  "language_info": {
   "codemirror_mode": {
    "name": "ipython",
    "version": 3
   },
   "file_extension": ".py",
   "mimetype": "text/x-python",
   "name": "python",
   "nbconvert_exporter": "python",
   "pygments_lexer": "ipython3",
   "version": "3.7.10"
  }
 },
 "nbformat": 4,
 "nbformat_minor": 4
}
