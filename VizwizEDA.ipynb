{
 "cells": [
  {
   "cell_type": "code",
   "execution_count": 1,
   "metadata": {},
   "outputs": [],
   "source": [
    "import os\n",
    "import pandas as pd\n",
    "import numpy as np\n",
    "import multiprocessing as mp\n",
    "\n",
    "from commons import vizwiz as vw\n",
    "from commons import images as im\n",
    "from itertools import repeat\n",
    "from IPython.core.display import HTML\n",
    "\n",
    "from tqdm import tqdm\n",
    "tqdm.pandas()\n",
    "\n",
    "# %pip install opencv-python-headless"
   ]
  },
  {
   "cell_type": "markdown",
   "metadata": {},
   "source": [
    "### Analyzing the train data"
   ]
  },
  {
   "cell_type": "code",
   "execution_count": 2,
   "metadata": {},
   "outputs": [
    {
     "name": "stdout",
     "output_type": "stream",
     "text": [
      "loading annotations into memory...\n",
      "Done (t=0.29s)\n",
      "creating index...\n",
      "index created! imgs = 23431, anns = 100575\n"
     ]
    }
   ],
   "source": [
    "vizwiz = vw.VizWiz(annotation_file='annotations/train.json')"
   ]
  },
  {
   "cell_type": "code",
   "execution_count": 3,
   "metadata": {},
   "outputs": [],
   "source": [
    "vizwiz_df = pd.DataFrame.from_dict(vizwiz.dataset['annotations'], orient='columns')\n",
    "vizwiz_images_df = pd.DataFrame.from_dict(vizwiz.dataset['images'], orient='columns')\n",
    "\n",
    "vizwiz_df = vizwiz_df.merge(vizwiz_images_df.rename({'id': 'image_id', 'text_detected': 'image_text_detected'}, axis=1), \n",
    "                            on='image_id', how='left')"
   ]
  },
  {
   "cell_type": "code",
   "execution_count": 4,
   "metadata": {},
   "outputs": [],
   "source": [
    "# caption counts for each image\n",
    "vizwiz_df['captions_count'] = vizwiz_df.groupby(by=['image_id'])['caption'].transform('count')\n",
    "\n",
    "# word counts for each caption\n",
    "vizwiz_df['words_count'] = vizwiz_df['caption'].str.split().apply(len)\n",
    "\n",
    "# https://stackoverflow.com/questions/61299310/pandas-groupby-with-custom-function-to-return-the-column-values-as-an-array"
   ]
  },
  {
   "cell_type": "code",
   "execution_count": 5,
   "metadata": {},
   "outputs": [
    {
     "name": "stdout",
     "output_type": "stream",
     "text": [
      "CPU times: user 835 ms, sys: 282 ms, total: 1.12 s\n",
      "Wall time: 18min 28s\n"
     ]
    }
   ],
   "source": [
    "%%time\n",
    "\n",
    "# create df with unique image id and file name\n",
    "cols = ['image_id', 'file_name']\n",
    "vizwiz_unique = vizwiz_df.groupby(by=cols, as_index=False).first()[cols]\n",
    "\n",
    "# find dimension for each image\n",
    "bucket = 'assistive-vision'\n",
    "train_imgs = 'vizwiz/train'\n",
    "\n",
    "images = im.ImageS3(bucket)\n",
    "\n",
    "def dimension(path, f):\n",
    "    fpath = ''.join([path, '/', f])\n",
    "    img = images.getImage(fpath)\n",
    "    return img.shape\n",
    "\n",
    "#vizwiz_unique['shape'] = vizwiz_unique['file_name'].progress_apply(lambda f: dimension(f))\n",
    "\n",
    "# parallelize the tasks to available cpu cores\n",
    "with mp.Pool(mp.cpu_count()) as pool:\n",
    "    vizwiz_unique['shape'] = pool.starmap(dimension, zip(repeat(train_imgs), vizwiz_unique['file_name']))"
   ]
  },
  {
   "cell_type": "code",
   "execution_count": 6,
   "metadata": {},
   "outputs": [],
   "source": [
    "\n",
    "vizwiz_unique.drop(columns=['file_name'], inplace=True)\n",
    "vizwiz_df = vizwiz_df.merge(vizwiz_unique, on='image_id', how='left')\n"
   ]
  },
  {
   "cell_type": "code",
   "execution_count": 7,
   "metadata": {},
   "outputs": [
    {
     "data": {
      "text/html": [
       "<table border=\"1\" class=\"dataframe\">\n",
       "  <thead>\n",
       "    <tr style=\"text-align: right;\">\n",
       "      <th></th>\n",
       "      <th>caption</th>\n",
       "      <th>image_id</th>\n",
       "      <th>is_precanned</th>\n",
       "      <th>is_rejected</th>\n",
       "      <th>id</th>\n",
       "      <th>text_detected</th>\n",
       "      <th>file_name</th>\n",
       "      <th>vizwiz_url</th>\n",
       "      <th>image_text_detected</th>\n",
       "      <th>captions_count</th>\n",
       "      <th>words_count</th>\n",
       "      <th>shape</th>\n",
       "    </tr>\n",
       "  </thead>\n",
       "  <tbody>\n",
       "    <tr>\n",
       "      <th>0</th>\n",
       "      <td>ITS IS A BASIL LEAVES CONTAINER ITS CONTAINS THE NET WEIGHT TOO.</td>\n",
       "      <td>0</td>\n",
       "      <td>False</td>\n",
       "      <td>False</td>\n",
       "      <td>0</td>\n",
       "      <td>True</td>\n",
       "      <td>VizWiz_train_00000000.jpg</td>\n",
       "      <td>https://ivc.ischool.utexas.edu/VizWiz_visualization_img/VizWiz_train_00000000.jpg</td>\n",
       "      <td>True</td>\n",
       "      <td>4</td>\n",
       "      <td>12</td>\n",
       "      <td>(1632, 1224, 3)</td>\n",
       "    </tr>\n",
       "    <tr>\n",
       "      <th>1</th>\n",
       "      <td>A green and white plastic condiment bottle containing Basil leaves.</td>\n",
       "      <td>0</td>\n",
       "      <td>False</td>\n",
       "      <td>False</td>\n",
       "      <td>1</td>\n",
       "      <td>True</td>\n",
       "      <td>VizWiz_train_00000000.jpg</td>\n",
       "      <td>https://ivc.ischool.utexas.edu/VizWiz_visualization_img/VizWiz_train_00000000.jpg</td>\n",
       "      <td>True</td>\n",
       "      <td>4</td>\n",
       "      <td>10</td>\n",
       "      <td>(1632, 1224, 3)</td>\n",
       "    </tr>\n",
       "    <tr>\n",
       "      <th>2</th>\n",
       "      <td>A bottle of spices in a plastic container laying on a surface.</td>\n",
       "      <td>0</td>\n",
       "      <td>False</td>\n",
       "      <td>False</td>\n",
       "      <td>3</td>\n",
       "      <td>True</td>\n",
       "      <td>VizWiz_train_00000000.jpg</td>\n",
       "      <td>https://ivc.ischool.utexas.edu/VizWiz_visualization_img/VizWiz_train_00000000.jpg</td>\n",
       "      <td>True</td>\n",
       "      <td>4</td>\n",
       "      <td>12</td>\n",
       "      <td>(1632, 1224, 3)</td>\n",
       "    </tr>\n",
       "    <tr>\n",
       "      <th>3</th>\n",
       "      <td>some basil leaves in a container on a counter</td>\n",
       "      <td>0</td>\n",
       "      <td>False</td>\n",
       "      <td>False</td>\n",
       "      <td>4</td>\n",
       "      <td>True</td>\n",
       "      <td>VizWiz_train_00000000.jpg</td>\n",
       "      <td>https://ivc.ischool.utexas.edu/VizWiz_visualization_img/VizWiz_train_00000000.jpg</td>\n",
       "      <td>True</td>\n",
       "      <td>4</td>\n",
       "      <td>9</td>\n",
       "      <td>(1632, 1224, 3)</td>\n",
       "    </tr>\n",
       "    <tr>\n",
       "      <th>4</th>\n",
       "      <td>A can of Coca Cola on a counter is shown for when one can use a nice, cold drink.</td>\n",
       "      <td>1</td>\n",
       "      <td>False</td>\n",
       "      <td>False</td>\n",
       "      <td>5</td>\n",
       "      <td>True</td>\n",
       "      <td>VizWiz_train_00000001.jpg</td>\n",
       "      <td>https://ivc.ischool.utexas.edu/VizWiz_visualization_img/VizWiz_train_00000001.jpg</td>\n",
       "      <td>True</td>\n",
       "      <td>5</td>\n",
       "      <td>19</td>\n",
       "      <td>(1296, 968, 3)</td>\n",
       "    </tr>\n",
       "  </tbody>\n",
       "</table>"
      ],
      "text/plain": [
       "<IPython.core.display.HTML object>"
      ]
     },
     "metadata": {},
     "output_type": "display_data"
    }
   ],
   "source": [
    "display(HTML(vizwiz_df.head().to_html()))"
   ]
  },
  {
   "cell_type": "code",
   "execution_count": 8,
   "metadata": {},
   "outputs": [],
   "source": [
    "vizwiz_df['height'], vizwiz_df['width'], _ = zip(*vizwiz_df['shape'])"
   ]
  },
  {
   "cell_type": "markdown",
   "metadata": {},
   "source": [
    "### Next is the val data"
   ]
  },
  {
   "cell_type": "code",
   "execution_count": 9,
   "metadata": {},
   "outputs": [
    {
     "name": "stdout",
     "output_type": "stream",
     "text": [
      "loading annotations into memory...\n",
      "Done (t=0.12s)\n",
      "creating index...\n",
      "index created! imgs = 7750, anns = 33145\n"
     ]
    }
   ],
   "source": [
    "vizwiz_val = vw.VizWiz(annotation_file='annotations/val.json')"
   ]
  },
  {
   "cell_type": "code",
   "execution_count": 10,
   "metadata": {},
   "outputs": [],
   "source": [
    "vizwiz_val_df = pd.DataFrame.from_dict(vizwiz_val.dataset['annotations'], orient='columns')\n",
    "vizwiz_images_val_df = pd.DataFrame.from_dict(vizwiz_val.dataset['images'], orient='columns')\n",
    "\n",
    "vizwiz_val_df = vizwiz_val_df.merge(vizwiz_images_val_df.rename({'id': 'image_id', 'text_detected': 'image_text_detected'}, axis=1), \n",
    "                            on='image_id', how='left')"
   ]
  },
  {
   "cell_type": "code",
   "execution_count": 11,
   "metadata": {},
   "outputs": [],
   "source": [
    "# caption counts for each image\n",
    "vizwiz_val_df['captions_count'] = vizwiz_val_df.groupby(by=['image_id'])['caption'].transform('count')\n",
    "\n",
    "# word counts for each caption\n",
    "vizwiz_val_df['words_count'] = vizwiz_val_df['caption'].str.split().apply(len)\n"
   ]
  },
  {
   "cell_type": "code",
   "execution_count": 12,
   "metadata": {},
   "outputs": [
    {
     "name": "stdout",
     "output_type": "stream",
     "text": [
      "CPU times: user 236 ms, sys: 99.4 ms, total: 336 ms\n",
      "Wall time: 5min 45s\n"
     ]
    }
   ],
   "source": [
    "%%time\n",
    "\n",
    "# create df with unique image id and file name\n",
    "cols = ['image_id', 'file_name']\n",
    "vizwiz_val_unique = vizwiz_val_df.groupby(by=cols, as_index=False).first()[cols]\n",
    "\n",
    "# find dimension for each image\n",
    "val_imgs = 'vizwiz/val'\n",
    "\n",
    "# parallelize the tasks to available cpu cores\n",
    "with mp.Pool(mp.cpu_count()) as pool:\n",
    "    vizwiz_val_unique['shape'] = pool.starmap(dimension, zip(repeat(val_imgs), vizwiz_val_unique['file_name']))"
   ]
  },
  {
   "cell_type": "code",
   "execution_count": 13,
   "metadata": {},
   "outputs": [],
   "source": [
    "vizwiz_val_unique.drop(columns=['file_name'], inplace=True)\n",
    "vizwiz_val_df = vizwiz_val_df.merge(vizwiz_val_unique, on='image_id', how='left')"
   ]
  },
  {
   "cell_type": "code",
   "execution_count": 14,
   "metadata": {},
   "outputs": [
    {
     "data": {
      "text/html": [
       "<table border=\"1\" class=\"dataframe\">\n",
       "  <thead>\n",
       "    <tr style=\"text-align: right;\">\n",
       "      <th></th>\n",
       "      <th>caption</th>\n",
       "      <th>image_id</th>\n",
       "      <th>is_precanned</th>\n",
       "      <th>is_rejected</th>\n",
       "      <th>id</th>\n",
       "      <th>text_detected</th>\n",
       "      <th>file_name</th>\n",
       "      <th>vizwiz_url</th>\n",
       "      <th>image_text_detected</th>\n",
       "      <th>captions_count</th>\n",
       "      <th>words_count</th>\n",
       "      <th>shape</th>\n",
       "    </tr>\n",
       "  </thead>\n",
       "  <tbody>\n",
       "    <tr>\n",
       "      <th>0</th>\n",
       "      <td>A computer screen shows a repair prompt on the screen.</td>\n",
       "      <td>23431</td>\n",
       "      <td>False</td>\n",
       "      <td>False</td>\n",
       "      <td>117155</td>\n",
       "      <td>True</td>\n",
       "      <td>VizWiz_val_00000000.jpg</td>\n",
       "      <td>https://ivc.ischool.utexas.edu/VizWiz_visualization_img/VizWiz_val_00000000.jpg</td>\n",
       "      <td>True</td>\n",
       "      <td>5</td>\n",
       "      <td>10</td>\n",
       "      <td>(1296, 968, 3)</td>\n",
       "    </tr>\n",
       "    <tr>\n",
       "      <th>1</th>\n",
       "      <td>a computer screen with a repair automatically pop up</td>\n",
       "      <td>23431</td>\n",
       "      <td>False</td>\n",
       "      <td>False</td>\n",
       "      <td>117156</td>\n",
       "      <td>True</td>\n",
       "      <td>VizWiz_val_00000000.jpg</td>\n",
       "      <td>https://ivc.ischool.utexas.edu/VizWiz_visualization_img/VizWiz_val_00000000.jpg</td>\n",
       "      <td>True</td>\n",
       "      <td>5</td>\n",
       "      <td>9</td>\n",
       "      <td>(1296, 968, 3)</td>\n",
       "    </tr>\n",
       "    <tr>\n",
       "      <th>2</th>\n",
       "      <td>partial computer screen showing the need of repairs</td>\n",
       "      <td>23431</td>\n",
       "      <td>False</td>\n",
       "      <td>False</td>\n",
       "      <td>117157</td>\n",
       "      <td>True</td>\n",
       "      <td>VizWiz_val_00000000.jpg</td>\n",
       "      <td>https://ivc.ischool.utexas.edu/VizWiz_visualization_img/VizWiz_val_00000000.jpg</td>\n",
       "      <td>True</td>\n",
       "      <td>5</td>\n",
       "      <td>8</td>\n",
       "      <td>(1296, 968, 3)</td>\n",
       "    </tr>\n",
       "    <tr>\n",
       "      <th>3</th>\n",
       "      <td>Part of a computer monitor showing a computer repair message.</td>\n",
       "      <td>23431</td>\n",
       "      <td>False</td>\n",
       "      <td>False</td>\n",
       "      <td>117158</td>\n",
       "      <td>True</td>\n",
       "      <td>VizWiz_val_00000000.jpg</td>\n",
       "      <td>https://ivc.ischool.utexas.edu/VizWiz_visualization_img/VizWiz_val_00000000.jpg</td>\n",
       "      <td>True</td>\n",
       "      <td>5</td>\n",
       "      <td>10</td>\n",
       "      <td>(1296, 968, 3)</td>\n",
       "    </tr>\n",
       "    <tr>\n",
       "      <th>4</th>\n",
       "      <td>The top of a laptop with a blue background and dark blue text.</td>\n",
       "      <td>23431</td>\n",
       "      <td>False</td>\n",
       "      <td>False</td>\n",
       "      <td>117159</td>\n",
       "      <td>True</td>\n",
       "      <td>VizWiz_val_00000000.jpg</td>\n",
       "      <td>https://ivc.ischool.utexas.edu/VizWiz_visualization_img/VizWiz_val_00000000.jpg</td>\n",
       "      <td>True</td>\n",
       "      <td>5</td>\n",
       "      <td>13</td>\n",
       "      <td>(1296, 968, 3)</td>\n",
       "    </tr>\n",
       "  </tbody>\n",
       "</table>"
      ],
      "text/plain": [
       "<IPython.core.display.HTML object>"
      ]
     },
     "metadata": {},
     "output_type": "display_data"
    }
   ],
   "source": [
    "display(HTML(vizwiz_val_df.head().to_html()))"
   ]
  },
  {
   "cell_type": "code",
   "execution_count": 15,
   "metadata": {},
   "outputs": [],
   "source": [
    "vizwiz_val_df['height'], vizwiz_val_df['width'], _ = zip(*vizwiz_val_df['shape'])"
   ]
  },
  {
   "cell_type": "markdown",
   "metadata": {},
   "source": [
    "### Visualizing..."
   ]
  },
  {
   "cell_type": "code",
   "execution_count": 244,
   "metadata": {},
   "outputs": [],
   "source": [
    "import matplotlib.pyplot as plt\n",
    "\n",
    "from collections import defaultdict\n",
    "from matplotlib import gridspec\n",
    "from commons.utils import ucb_palette\n",
    "\n",
    "%matplotlib inline"
   ]
  },
  {
   "cell_type": "code",
   "execution_count": 33,
   "metadata": {},
   "outputs": [],
   "source": [
    "cols = ['image_id', 'captions_count', 'words_count', 'height', 'width']\n",
    "vizwiz_vis = vizwiz_df[cols].copy()\n",
    "vizwiz_vis['type'] = 0\n",
    "\n",
    "vizwiz_val_vis = vizwiz_val_df[cols].copy()\n",
    "vizwiz_val_vis['type'] = 1\n",
    "\n",
    "vizwiz_vis = vizwiz_vis.append(vizwiz_val_vis)\n",
    "vizwiz_vis_unique = vizwiz_vis.groupby(by=['image_id'], as_index=False).first()[['image_id', 'captions_count', 'type']]\n"
   ]
  },
  {
   "cell_type": "code",
   "execution_count": 254,
   "metadata": {},
   "outputs": [],
   "source": [
    "def setSpinesAlphaLineWidth(ax, top_alpha=0.25, bottom_alpha=0.25, left_alpha=0.25, right_alpha=0.25,\n",
    "    top_lw=0.5, bottom_lw=0.5, left_lw=0.5, right_lw=0.5):\n",
    "    \n",
    "    ax.spines[\"top\"].set_alpha(top_alpha)\n",
    "    ax.spines[\"bottom\"].set_alpha(bottom_alpha)\n",
    "    ax.spines[\"right\"].set_alpha(right_alpha)\n",
    "    ax.spines[\"left\"].set_alpha(left_alpha)\n",
    "    ax.spines[\"top\"].set_linewidth(top_lw)\n",
    "    ax.spines[\"bottom\"].set_linewidth(bottom_lw)\n",
    "    ax.spines[\"right\"].set_linewidth(right_lw)\n",
    "    ax.spines[\"left\"].set_linewidth(left_lw)"
   ]
  },
  {
   "cell_type": "code",
   "execution_count": 260,
   "metadata": {},
   "outputs": [
    {
     "data": {
      "image/png": "[encoded data removed]",
      "text/plain": [
       "<Figure size 2000x600 with 2 Axes>"
      ]
     },
     "metadata": {
      "needs_background": "light"
     },
     "output_type": "display_data"
    }
   ],
   "source": [
    "fig = plt.figure(figsize=(20, 6), dpi=100)\n",
    "\n",
    "spec = gridspec.GridSpec(ncols=2, nrows=1,\n",
    "                         width_ratios=[1, 2], wspace=0.15)\n",
    "\n",
    "#####################################\n",
    "## Captions by Image               ## \n",
    "#####################################\n",
    "# count images by captions_count\n",
    "vizwiz_vis_caps = vizwiz_vis_unique.groupby(by=['captions_count', 'type'], as_index=False).count() \\\n",
    "    .rename({'image_id': 'image_count'}, axis=1)\n",
    "\n",
    "ax = fig.add_subplot(spec[0])\n",
    "x = np.arange(len(vizwiz_vis_caps.captions_count.unique()))\n",
    "width = 0.4\n",
    "\n",
    "ax.bar(x, vizwiz_vis_caps.loc[vizwiz_vis_caps['type'] == 0, 'image_count'], width=width, label='Train', \n",
    "       color=ucb_palette['berkeley_blue'])\n",
    "ax.bar(x + width, vizwiz_vis_caps.loc[vizwiz_vis_caps['type'] == 1, 'image_count'], width=width, label='Val', \n",
    "       color=ucb_palette['medalist'])\n",
    "\n",
    "# fix the axis\n",
    "ax.set_xticks(x + width / 2)\n",
    "ax.set_xticklabels(vizwiz_vis_caps.captions_count.unique())\n",
    "\n",
    "# show legend\n",
    "ax.legend()\n",
    "\n",
    "# axis styling\n",
    "ax.set_title('# of Captions by Image', color = ucb_palette['berkeley_blue'], y = 1.02, \n",
    "    fontsize = 11, fontweight = 'light')\n",
    "ax.set_xlabel('# of captions', fontsize = 10, ha='center', color = ucb_palette['berkeley_blue'])\n",
    "ax.set_ylabel('# of images', fontsize = 10, ha='center', color = ucb_palette['berkeley_blue'])\n",
    "ax.tick_params(bottom=False, which='major', labelsize=8)\n",
    "setSpinesAlphaLineWidth(ax)\n",
    "\n",
    "# show text label\n",
    "for bar in ax.patches:\n",
    "    bar_value = bar.get_height()\n",
    "    text = f'{bar_value:,}'\n",
    "    text_x = bar.get_x() + bar.get_width() / 2\n",
    "    text_y = bar.get_y() + bar_value\n",
    "    bar_color = bar.get_facecolor()\n",
    "    ax.text(text_x, text_y, text, ha='center', va='bottom', color=bar_color, size=8)\n",
    "    \n",
    "    \n",
    "#####################################\n",
    "## Words by Image                  ## \n",
    "#####################################\n",
    "# count images by words_count and type (Train or Val)\n",
    "vizwiz_vis_words = vizwiz_vis[['image_id', 'words_count', 'type']].groupby(by=['words_count', 'type'], as_index=False).count() \\\n",
    "    .rename({'image_id': 'image_count'}, axis=1)\n",
    "\n",
    "# insert zero words_count values for images that do not have image_count by Train (type == 0) by finding delta images between all and parts \n",
    "all = vizwiz_vis_words.words_count.unique()\n",
    "parts = vizwiz_vis_words.loc[(vizwiz_vis_words.words_count.isin(all)) \n",
    "                            & (vizwiz_vis_words.type == 0), 'words_count'].to_numpy()\n",
    "diff = np.setdiff1d(all, parts)\n",
    "new = pd.DataFrame({'words_count': diff, \n",
    "                    'type': np.zeros(len(diff), dtype=int),\n",
    "                    'image_count': np.zeros(len(diff), dtype=int)})\n",
    "\n",
    "vizwiz_vis_words = vizwiz_vis_words.append(new)\n",
    "\n",
    "# insert zero words_count values for images that do not have image_count by Val (type == 1) by finding delta images between all and parts \n",
    "parts = vizwiz_vis_words.loc[(vizwiz_vis_words.words_count.isin(all)) \n",
    "                            & (vizwiz_vis_words.type == 1), 'words_count'].to_numpy()\n",
    "diff = np.setdiff1d(all, parts)\n",
    "new = pd.DataFrame({'words_count': diff, \n",
    "                    'type': np.ones(len(diff), dtype=int),\n",
    "                    'image_count': np.zeros(len(diff), dtype=int)})\n",
    "\n",
    "vizwiz_vis_words = vizwiz_vis_words.append(new)\n",
    "vizwiz_vis_words.sort_values(by=['words_count', 'type'], inplace=True)\n",
    "\n",
    "ax = fig.add_subplot(spec[1])\n",
    "x = np.arange(len(all))\n",
    "width = 0.4\n",
    "\n",
    "ax.bar(x, vizwiz_vis_words.loc[vizwiz_vis_words['type'] == 1, 'image_count'], width=width, label='Train', \n",
    "      color=ucb_palette['berkeley_blue'])\n",
    "ax.bar(x + width, vizwiz_vis_words.loc[vizwiz_vis_words['type'] == 1, 'image_count'], width=width, label='Val', \n",
    "       color=ucb_palette['medalist'])\n",
    "\n",
    "# fix the axis\n",
    "ax.set_xticks(x + width / 2)\n",
    "ax.set_xticklabels(vizwiz_vis_caps.captions_count.unique())\n",
    "\n",
    "# show legend\n",
    "ax.legend()\n",
    "\n",
    "# axis styling\n",
    "ax.set_title('# of Words by Caption and Image', color = ucb_palette['berkeley_blue'], y = 1.02, \n",
    "    fontsize = 11, fontweight = 'light')\n",
    "ax.set_xlabel('# of words', fontsize = 10, ha='center', color = ucb_palette['berkeley_blue'])\n",
    "ax.set_ylabel('# of images', fontsize = 10, ha='center', color = ucb_palette['berkeley_blue'])\n",
    "ax.tick_params(bottom=False, which='major', labelsize=8)\n",
    "setSpinesAlphaLineWidth(ax)\n",
    "    \n",
    "#fig.tight_layout()"
   ]
  },
  {
   "cell_type": "code",
   "execution_count": null,
   "metadata": {},
   "outputs": [],
   "source": []
  }
 ],
 "metadata": {
  "instance_type": "ml.t3.medium",
  "kernelspec": {
   "display_name": "Python 3 (Data Science)",
   "language": "python",
   "name": "python3__SAGEMAKER_INTERNAL__arn:aws:sagemaker:us-east-1:081325390199:image/datascience-1.0"
  },
  "language_info": {
   "codemirror_mode": {
    "name": "ipython",
    "version": 3
   },
   "file_extension": ".py",
   "mimetype": "text/x-python",
   "name": "python",
   "nbconvert_exporter": "python",
   "pygments_lexer": "ipython3",
   "version": "3.7.10"
  }
 },
 "nbformat": 4,
 "nbformat_minor": 4
}
