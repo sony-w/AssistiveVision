{
 "cells": [
  {
   "cell_type": "code",
   "execution_count": 51,
   "metadata": {},
   "outputs": [],
   "source": [
    "import os\n",
    "import pandas as pd\n",
    "import numpy as np\n",
    "import boto3\n",
    "from commons import vizwiz as vz\n",
    "from IPython.core.display import HTML\n",
    "import json\n",
    "s3 = boto3.resource('s3')"
   ]
  },
  {
   "cell_type": "code",
   "execution_count": 7,
   "metadata": {},
   "outputs": [],
   "source": [
    "object = s3.Object('assistive-vision', 'vizwiz/annotations/train.json')"
   ]
  },
  {
   "cell_type": "code",
   "execution_count": 30,
   "metadata": {},
   "outputs": [],
   "source": [
    "file_contents = object.get()['Body'].read().decode('utf-8')\n",
    "train_annotations = json.loads(file_contents)"
   ]
  },
  {
   "cell_type": "code",
   "execution_count": 41,
   "metadata": {},
   "outputs": [
    {
     "data": {
      "text/plain": [
       "'62.74%'"
      ]
     },
     "execution_count": 41,
     "metadata": {},
     "output_type": "execute_result"
    }
   ],
   "source": [
    "# % of train images where text is detected\n",
    "\n",
    "f\"{sum(map(lambda x: x['text_detected'], train_annotations['images'])) /len(train_annotations['images']) * 100:,.2f}%\" "
   ]
  },
  {
   "cell_type": "code",
   "execution_count": 49,
   "metadata": {},
   "outputs": [
    {
     "data": {
      "text/plain": [
       "[{'caption': 'ITS IS A BASIL LEAVES CONTAINER ITS CONTAINS THE NET WEIGHT TOO.',\n",
       "  'image_id': 0,\n",
       "  'is_precanned': False,\n",
       "  'is_rejected': False,\n",
       "  'id': 0,\n",
       "  'text_detected': True},\n",
       " {'caption': 'A green and white plastic condiment bottle containing Basil leaves.',\n",
       "  'image_id': 0,\n",
       "  'is_precanned': False,\n",
       "  'is_rejected': False,\n",
       "  'id': 1,\n",
       "  'text_detected': True},\n",
       " {'caption': 'Quality issues are too severe to recognize visual content.',\n",
       "  'image_id': 0,\n",
       "  'is_precanned': True,\n",
       "  'is_rejected': True,\n",
       "  'id': 2,\n",
       "  'text_detected': True},\n",
       " {'caption': 'A bottle of spices in a plastic container laying on a surface.',\n",
       "  'image_id': 0,\n",
       "  'is_precanned': False,\n",
       "  'is_rejected': False,\n",
       "  'id': 3,\n",
       "  'text_detected': True},\n",
       " {'caption': 'some basil leaves in a container on a counter',\n",
       "  'image_id': 0,\n",
       "  'is_precanned': False,\n",
       "  'is_rejected': False,\n",
       "  'id': 4,\n",
       "  'text_detected': True},\n",
       " {'caption': 'A can of Coca Cola on a counter is shown for when one can use a nice, cold drink.',\n",
       "  'image_id': 1,\n",
       "  'is_precanned': False,\n",
       "  'is_rejected': False,\n",
       "  'id': 5,\n",
       "  'text_detected': True},\n",
       " {'caption': 'A black can of Coca Cola Zero calorie soda is on the counter near the coffee maker.',\n",
       "  'image_id': 1,\n",
       "  'is_precanned': False,\n",
       "  'is_rejected': False,\n",
       "  'id': 6,\n",
       "  'text_detected': True},\n",
       " {'caption': 'A kitchen counter the various items on top including a can of Coca-Cola, metal containers, and a teapot.',\n",
       "  'image_id': 1,\n",
       "  'is_precanned': False,\n",
       "  'is_rejected': False,\n",
       "  'id': 7,\n",
       "  'text_detected': True},\n",
       " {'caption': 'a black tin of Coca Cola placed on a black surface',\n",
       "  'image_id': 1,\n",
       "  'is_precanned': False,\n",
       "  'is_rejected': False,\n",
       "  'id': 8,\n",
       "  'text_detected': True},\n",
       " {'caption': 'Black counter with canisters, kettle and can of soda.',\n",
       "  'image_id': 1,\n",
       "  'is_precanned': False,\n",
       "  'is_rejected': False,\n",
       "  'id': 9,\n",
       "  'text_detected': True}]"
      ]
     },
     "execution_count": 49,
     "metadata": {},
     "output_type": "execute_result"
    }
   ],
   "source": [
    "train_annotations['annotations'][:10]"
   ]
  },
  {
   "cell_type": "code",
   "execution_count": 48,
   "metadata": {},
   "outputs": [
    {
     "data": {
      "text/plain": [
       "[{'file_name': 'VizWiz_train_00000000.jpg',\n",
       "  'vizwiz_url': 'https://ivc.ischool.utexas.edu/VizWiz_visualization_img/VizWiz_train_00000000.jpg',\n",
       "  'id': 0,\n",
       "  'text_detected': True},\n",
       " {'file_name': 'VizWiz_train_00000001.jpg',\n",
       "  'vizwiz_url': 'https://ivc.ischool.utexas.edu/VizWiz_visualization_img/VizWiz_train_00000001.jpg',\n",
       "  'id': 1,\n",
       "  'text_detected': True}]"
      ]
     },
     "execution_count": 48,
     "metadata": {},
     "output_type": "execute_result"
    }
   ],
   "source": [
    "train_annotations['images'][:2]"
   ]
  },
  {
   "cell_type": "code",
   "execution_count": null,
   "metadata": {},
   "outputs": [],
   "source": []
  }
 ],
 "metadata": {
  "instance_type": "ml.t3.medium",
  "kernelspec": {
   "display_name": "Python 3 (Data Science)",
   "language": "python",
   "name": "python3__SAGEMAKER_INTERNAL__arn:aws:sagemaker:us-west-1:742091327244:image/datascience-1.0"
  },
  "language_info": {
   "codemirror_mode": {
    "name": "ipython",
    "version": 3
   },
   "file_extension": ".py",
   "mimetype": "text/x-python",
   "name": "python",
   "nbconvert_exporter": "python",
   "pygments_lexer": "ipython3",
   "version": "3.7.10"
  }
 },
 "nbformat": 4,
 "nbformat_minor": 4
}
