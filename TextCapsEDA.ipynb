{
 "cells": [
  {
   "cell_type": "code",
   "execution_count": 15,
   "metadata": {},
   "outputs": [
    {
     "ename": "ModuleNotFoundError",
     "evalue": "No module named 'fiftyone'",
     "output_type": "error",
     "traceback": [
      "\u001b[0;31m---------------------------------------------------------------------------\u001b[0m",
      "\u001b[0;31mModuleNotFoundError\u001b[0m                       Traceback (most recent call last)",
      "\u001b[0;32m<ipython-input-15-3a27fa9d55aa>\u001b[0m in \u001b[0;36m<module>\u001b[0;34m\u001b[0m\n\u001b[1;32m      3\u001b[0m \u001b[0;32mimport\u001b[0m \u001b[0mnumpy\u001b[0m \u001b[0;32mas\u001b[0m \u001b[0mnp\u001b[0m\u001b[0;34m\u001b[0m\u001b[0;34m\u001b[0m\u001b[0m\n\u001b[1;32m      4\u001b[0m \u001b[0;32mimport\u001b[0m \u001b[0mmultiprocessing\u001b[0m \u001b[0;32mas\u001b[0m \u001b[0mmp\u001b[0m\u001b[0;34m\u001b[0m\u001b[0;34m\u001b[0m\u001b[0m\n\u001b[0;32m----> 5\u001b[0;31m \u001b[0;32mimport\u001b[0m \u001b[0mfiftyone\u001b[0m\u001b[0;34m\u001b[0m\u001b[0;34m\u001b[0m\u001b[0m\n\u001b[0m\u001b[1;32m      6\u001b[0m \u001b[0;34m\u001b[0m\u001b[0m\n\u001b[1;32m      7\u001b[0m \u001b[0;34m\u001b[0m\u001b[0m\n",
      "\u001b[0;31mModuleNotFoundError\u001b[0m: No module named 'fiftyone'"
     ]
    }
   ],
   "source": [
    "import os\n",
    "import pandas as pd\n",
    "import numpy as np\n",
    "import multiprocessing as mp\n",
    "import fiftyone\n",
    "\n",
    "\n",
    "from loader import images as im\n",
    "from itertools import repeat\n",
    "from IPython.core.display import HTML\n",
    "\n",
    "from tqdm import tqdm\n",
    "tqdm.pandas()\n",
    "\n",
    "# %pip install opencv-python-headless"
   ]
  },
  {
   "cell_type": "markdown",
   "metadata": {},
   "source": [
    "### Analyzing the train data"
   ]
  },
  {
   "cell_type": "code",
   "execution_count": 2,
   "metadata": {},
   "outputs": [
    {
     "ename": "NameError",
     "evalue": "name 'fiftyone' is not defined",
     "output_type": "error",
     "traceback": [
      "\u001b[0;31m---------------------------------------------------------------------------\u001b[0m",
      "\u001b[0;31mNameError\u001b[0m                                 Traceback (most recent call last)",
      "\u001b[0;32m<ipython-input-2-3570ff6afac5>\u001b[0m in \u001b[0;36m<module>\u001b[0;34m\u001b[0m\n\u001b[0;32m----> 1\u001b[0;31m \u001b[0mtextcaps_train\u001b[0m \u001b[0;34m=\u001b[0m \u001b[0mfiftyone\u001b[0m\u001b[0;34m.\u001b[0m\u001b[0mzoo\u001b[0m\u001b[0;34m.\u001b[0m\u001b[0mload_zoo_dataset\u001b[0m\u001b[0;34m(\u001b[0m\u001b[0;34m\"open-images-v6\"\u001b[0m\u001b[0;34m,\u001b[0m \u001b[0msplit\u001b[0m\u001b[0;34m=\u001b[0m\u001b[0;34m\"train\"\u001b[0m\u001b[0;34m)\u001b[0m\u001b[0;34m\u001b[0m\u001b[0;34m\u001b[0m\u001b[0m\n\u001b[0m",
      "\u001b[0;31mNameError\u001b[0m: name 'fiftyone' is not defined"
     ]
    }
   ],
   "source": [
    "textcaps_train = fiftyone.zoo.load_zoo_dataset(\"open-images-v6\", split=\"train\")"
   ]
  },
  {
   "cell_type": "code",
   "execution_count": 2,
   "metadata": {},
   "outputs": [
    {
     "name": "stdout",
     "output_type": "stream",
     "text": [
      "loading annotations into memory...\n",
      "Done (t=0.45s)\n",
      "creating index...\n",
      "index created! imgs = 23431, anns = 100575\n"
     ]
    }
   ],
   "source": [
    "vizwiz = vw.VizWiz(annotation_file='annotations/train.json')"
   ]
  },
  {
   "cell_type": "code",
   "execution_count": 3,
   "metadata": {},
   "outputs": [],
   "source": [
    "vizwiz_df = pd.DataFrame.from_dict(vizwiz.dataset['annotations'], orient='columns')\n",
    "vizwiz_images_df = pd.DataFrame.from_dict(vizwiz.dataset['images'], orient='columns')\n",
    "\n",
    "vizwiz_df = vizwiz_df.merge(vizwiz_images_df.rename({'id': 'image_id', 'text_detected': 'image_text_detected'}, axis=1), \n",
    "                            on='image_id', how='left')"
   ]
  },
  {
   "cell_type": "code",
   "execution_count": 4,
   "metadata": {},
   "outputs": [],
   "source": [
    "# caption counts for each image\n",
    "vizwiz_df['captions_count'] = vizwiz_df.groupby(by=['image_id'])['caption'].transform('count')\n",
    "\n",
    "# word counts for each caption\n",
    "vizwiz_df['words_count'] = vizwiz_df['caption'].str.split().apply(len)\n",
    "\n",
    "# https://stackoverflow.com/questions/61299310/pandas-groupby-with-custom-function-to-return-the-column-values-as-an-array"
   ]
  },
  {
   "cell_type": "code",
   "execution_count": null,
   "metadata": {},
   "outputs": [],
   "source": [
    "%%time\n",
    "\n",
    "# create df with unique image id and file name\n",
    "cols = ['image_id', 'file_name']\n",
    "vizwiz_unique = vizwiz_df.groupby(by=cols, as_index=False).first()[cols]\n",
    "\n",
    "# find dimension for each image\n",
    "bucket = 'assistive-vision'\n",
    "train_imgs = 'vizwiz/train'\n",
    "\n",
    "images = im.ImageS3(bucket)\n",
    "\n",
    "def dimension(path, f):\n",
    "    fpath = ''.join([path, '/', f])\n",
    "    img = images.getImage(fpath)\n",
    "    return img.shape\n",
    "\n",
    "#vizwiz_unique['shape'] = vizwiz_unique['file_name'].progress_apply(lambda f: dimension(f))\n",
    "\n",
    "# parallelize the tasks to available cpu cores\n",
    "with mp.Pool(mp.cpu_count()) as pool:\n",
    "    vizwiz_unique['shape'] = pool.starmap(dimension, zip(repeat(train_imgs), vizwiz_unique['file_name']))"
   ]
  },
  {
   "cell_type": "code",
   "execution_count": null,
   "metadata": {},
   "outputs": [],
   "source": [
    "vizwiz_unique.drop(columns=['file_name'], inplace=True)\n",
    "vizwiz_df = vizwiz_df.merge(vizwiz_unique, on='image_id', how='left')\n"
   ]
  },
  {
   "cell_type": "code",
   "execution_count": null,
   "metadata": {},
   "outputs": [],
   "source": [
    "display(HTML(vizwiz_df.head().to_html()))"
   ]
  },
  {
   "cell_type": "code",
   "execution_count": null,
   "metadata": {},
   "outputs": [],
   "source": [
    "vizwiz_df['height'], vizwiz_df['width'], _ = zip(*vizwiz_df['shape'])"
   ]
  },
  {
   "cell_type": "markdown",
   "metadata": {},
   "source": [
    "### Next is the val data"
   ]
  },
  {
   "cell_type": "code",
   "execution_count": null,
   "metadata": {},
   "outputs": [],
   "source": [
    "vizwiz_val = vw.VizWiz(annotation_file='annotations/val.json')"
   ]
  },
  {
   "cell_type": "code",
   "execution_count": null,
   "metadata": {},
   "outputs": [],
   "source": [
    "vizwiz_val_df = pd.DataFrame.from_dict(vizwiz_val.dataset['annotations'], orient='columns')\n",
    "vizwiz_images_val_df = pd.DataFrame.from_dict(vizwiz_val.dataset['images'], orient='columns')\n",
    "\n",
    "vizwiz_val_df = vizwiz_val_df.merge(vizwiz_images_val_df.rename({'id': 'image_id', 'text_detected': 'image_text_detected'}, axis=1), \n",
    "                            on='image_id', how='left')"
   ]
  },
  {
   "cell_type": "code",
   "execution_count": null,
   "metadata": {},
   "outputs": [],
   "source": [
    "# caption counts for each image\n",
    "vizwiz_val_df['captions_count'] = vizwiz_val_df.groupby(by=['image_id'])['caption'].transform('count')\n",
    "\n",
    "# word counts for each caption\n",
    "vizwiz_val_df['words_count'] = vizwiz_val_df['caption'].str.split().apply(len)\n"
   ]
  },
  {
   "cell_type": "code",
   "execution_count": null,
   "metadata": {},
   "outputs": [],
   "source": [
    "%%time\n",
    "\n",
    "# create df with unique image id and file name\n",
    "cols = ['image_id', 'file_name']\n",
    "vizwiz_val_unique = vizwiz_val_df.groupby(by=cols, as_index=False).first()[cols]\n",
    "\n",
    "# find dimension for each image\n",
    "val_imgs = 'vizwiz/val'\n",
    "\n",
    "# parallelize the tasks to available cpu cores\n",
    "with mp.Pool(mp.cpu_count()) as pool:\n",
    "    vizwiz_val_unique['shape'] = pool.starmap(dimension, zip(repeat(val_imgs), vizwiz_val_unique['file_name']))"
   ]
  },
  {
   "cell_type": "code",
   "execution_count": null,
   "metadata": {},
   "outputs": [],
   "source": [
    "vizwiz_val_unique.drop(columns=['file_name'], inplace=True)\n",
    "vizwiz_val_df = vizwiz_val_df.merge(vizwiz_val_unique, on='image_id', how='left')"
   ]
  },
  {
   "cell_type": "code",
   "execution_count": null,
   "metadata": {},
   "outputs": [],
   "source": [
    "display(HTML(vizwiz_val_df.head().to_html()))"
   ]
  },
  {
   "cell_type": "code",
   "execution_count": null,
   "metadata": {},
   "outputs": [],
   "source": [
    "vizwiz_val_df['height'], vizwiz_val_df['width'], _ = zip(*vizwiz_val_df['shape'])"
   ]
  },
  {
   "cell_type": "markdown",
   "metadata": {},
   "source": [
    "### Visualizing..."
   ]
  },
  {
   "cell_type": "code",
   "execution_count": null,
   "metadata": {},
   "outputs": [],
   "source": [
    "import matplotlib.pyplot as plt\n",
    "import seaborn as sns\n",
    "\n",
    "from collections import defaultdict\n",
    "from matplotlib import gridspec\n",
    "from commons.utils import ucb_palette\n",
    "\n",
    "%matplotlib inline"
   ]
  },
  {
   "cell_type": "code",
   "execution_count": null,
   "metadata": {},
   "outputs": [],
   "source": [
    "cols = ['image_id', 'captions_count', 'words_count', 'height', 'width']\n",
    "vizwiz_vis = vizwiz_df[cols].copy()\n",
    "vizwiz_vis['type'] = 0\n",
    "\n",
    "vizwiz_val_vis = vizwiz_val_df[cols].copy()\n",
    "vizwiz_val_vis['type'] = 1\n",
    "\n",
    "vizwiz_vis = vizwiz_vis.append(vizwiz_val_vis)\n",
    "vizwiz_vis_unique = vizwiz_vis.groupby(by=['image_id'], as_index=False).first()[['image_id', 'captions_count', 'type']]\n"
   ]
  },
  {
   "cell_type": "code",
   "execution_count": null,
   "metadata": {},
   "outputs": [],
   "source": [
    "def setSpinesAlphaLineWidth(ax, top_alpha=0.25, bottom_alpha=0.25, left_alpha=0.25, right_alpha=0.25,\n",
    "    top_lw=0.5, bottom_lw=0.5, left_lw=0.5, right_lw=0.5):\n",
    "    \n",
    "    ax.spines[\"top\"].set_alpha(top_alpha)\n",
    "    ax.spines[\"bottom\"].set_alpha(bottom_alpha)\n",
    "    ax.spines[\"right\"].set_alpha(right_alpha)\n",
    "    ax.spines[\"left\"].set_alpha(left_alpha)\n",
    "    ax.spines[\"top\"].set_linewidth(top_lw)\n",
    "    ax.spines[\"bottom\"].set_linewidth(bottom_lw)\n",
    "    ax.spines[\"right\"].set_linewidth(right_lw)\n",
    "    ax.spines[\"left\"].set_linewidth(left_lw)"
   ]
  },
  {
   "cell_type": "code",
   "execution_count": null,
   "metadata": {},
   "outputs": [],
   "source": [
    "fig = plt.figure(figsize=(20, 6), dpi=100)\n",
    "\n",
    "spec = gridspec.GridSpec(ncols=2, nrows=1,\n",
    "                         width_ratios=[1, 2], wspace=0.15)\n",
    "\n",
    "#####################################\n",
    "## Captions by Image               ## \n",
    "#####################################\n",
    "# count images by captions_count\n",
    "vizwiz_vis_caps = vizwiz_vis_unique.groupby(by=['captions_count', 'type'], as_index=False).count() \\\n",
    "    .rename({'image_id': 'image_count'}, axis=1)\n",
    "\n",
    "ax = fig.add_subplot(spec[0])\n",
    "x = np.arange(len(vizwiz_vis_caps.captions_count.unique()))\n",
    "width = 0.4\n",
    "\n",
    "ax.bar(x, vizwiz_vis_caps.loc[vizwiz_vis_caps['type'] == 0, 'image_count'], width=width, label='Train', \n",
    "       color=ucb_palette['berkeley_blue'])\n",
    "ax.bar(x + width, vizwiz_vis_caps.loc[vizwiz_vis_caps['type'] == 1, 'image_count'], width=width, label='Val', \n",
    "       color=ucb_palette['medalist'])\n",
    "\n",
    "# fix the axis\n",
    "ax.set_xticks(x + width / 2)\n",
    "ax.set_xticklabels(vizwiz_vis_caps.captions_count.unique())\n",
    "\n",
    "# show legend\n",
    "ax.legend()\n",
    "\n",
    "# axis styling\n",
    "ax.set_title('# of Captions by Image', color = ucb_palette['berkeley_blue'], y = 1.02, \n",
    "    fontsize = 11, fontweight = 'light')\n",
    "ax.set_xlabel('# of captions', fontsize = 10, ha='center', color = ucb_palette['berkeley_blue'])\n",
    "ax.set_ylabel('# of images', fontsize = 10, ha='center', color = ucb_palette['berkeley_blue'])\n",
    "ax.tick_params(bottom=False, which='major', labelsize=8)\n",
    "ax.yaxis.grid(True, color=ucb_palette['bay_fog'], ls='-.', alpha=0.3)\n",
    "ax.set_axisbelow(True)\n",
    "setSpinesAlphaLineWidth(ax)\n",
    "\n",
    "# show text label\n",
    "for bar in ax.patches:\n",
    "    bar_value = bar.get_height()\n",
    "    text = f'{bar_value:,}'\n",
    "    text_x = bar.get_x() + bar.get_width() / 2\n",
    "    text_y = bar.get_y() + bar_value\n",
    "    bar_color = bar.get_facecolor()\n",
    "    ax.text(text_x, text_y, text, ha='center', va='bottom', color=bar_color, size=8)\n",
    "    \n",
    "    \n",
    "#####################################\n",
    "## Words by Capton and Image       ## \n",
    "#####################################\n",
    "# count images by words_count and type (Train or Val)\n",
    "vizwiz_vis_words = vizwiz_vis[['image_id', 'words_count', 'type']].groupby(by=['words_count', 'type'], as_index=False).count() \\\n",
    "    .rename({'image_id': 'image_count'}, axis=1)\n",
    "\n",
    "# insert zero words_count values for images that do not have image_count by Train (type == 0) by finding delta images between all and parts \n",
    "all = vizwiz_vis_words.words_count.unique()\n",
    "parts = vizwiz_vis_words.loc[(vizwiz_vis_words.words_count.isin(all)) \n",
    "                            & (vizwiz_vis_words.type == 0), 'words_count'].to_numpy()\n",
    "diff = np.setdiff1d(all, parts)\n",
    "new = pd.DataFrame({'words_count': diff, \n",
    "                    'type': np.zeros(len(diff), dtype=int),\n",
    "                    'image_count': np.zeros(len(diff), dtype=int)})\n",
    "\n",
    "vizwiz_vis_words = vizwiz_vis_words.append(new)\n",
    "\n",
    "# insert zero words_count values for images that do not have image_count by Val (type == 1) by finding delta images between all and parts \n",
    "parts = vizwiz_vis_words.loc[(vizwiz_vis_words.words_count.isin(all)) \n",
    "                            & (vizwiz_vis_words.type == 1), 'words_count'].to_numpy()\n",
    "diff = np.setdiff1d(all, parts)\n",
    "new = pd.DataFrame({'words_count': diff, \n",
    "                    'type': np.ones(len(diff), dtype=int),\n",
    "                    'image_count': np.zeros(len(diff), dtype=int)})\n",
    "\n",
    "vizwiz_vis_words = vizwiz_vis_words.append(new)\n",
    "vizwiz_vis_words.sort_values(by=['words_count', 'type'], inplace=True)\n",
    "\n",
    "ax = fig.add_subplot(spec[1])\n",
    "x = np.arange(len(all))\n",
    "width = 0.4\n",
    "\n",
    "bar_train = vizwiz_vis_words.loc[vizwiz_vis_words['type'] == 0, 'image_count'].to_numpy()\n",
    "bar_train_y = bar_train[np.argmax(bar_train)]\n",
    "bar_train_x = all[np.argmax(bar_train)]\n",
    "\n",
    "bar_val = vizwiz_vis_words.loc[vizwiz_vis_words['type'] == 1, 'image_count'].to_numpy()\n",
    "bar_val_y = bar_val[np.argmax(bar_val)]\n",
    "bar_val_x = all[np.argmax(bar_val)]\n",
    "\n",
    "ax.bar(x, bar_train, width=width, label='Train', color=ucb_palette['berkeley_blue'])\n",
    "ax.bar(x + width, bar_val, width=width, label='Val', \n",
    "       color=ucb_palette['medalist'])\n",
    "\n",
    "# fix the axis\n",
    "ax.set_xticks(x + width / 2)\n",
    "ax.set_xticklabels(all, rotation='vertical')\n",
    "\n",
    "# show legend\n",
    "ax.legend()\n",
    "\n",
    "# axis styling\n",
    "ax.set_title('# of Words by Caption and Image', color = ucb_palette['berkeley_blue'], y = 1.02, \n",
    "    fontsize = 11, fontweight = 'light')\n",
    "ax.set_xlabel('# of words', fontsize = 10, ha='center', color = ucb_palette['berkeley_blue'])\n",
    "ax.set_ylabel('# of images', fontsize = 10, ha='center', color = ucb_palette['berkeley_blue'])\n",
    "ax.tick_params(bottom=False, which='major', labelsize=8)\n",
    "ax.yaxis.grid(True, color=ucb_palette['bay_fog'], ls='-.', alpha=0.3)\n",
    "ax.set_axisbelow(True)\n",
    "setSpinesAlphaLineWidth(ax)\n",
    "\n",
    "# show text label on max value\n",
    "for bar in ax.patches:\n",
    "    bar_value = bar.get_height()\n",
    "    if bar_value in [bar_train_y, bar_val_y]:\n",
    "        text = f'({bar_train_x}, {bar_value:,})'\n",
    "        if bar_value == bar_val_y:\n",
    "            text = f'({bar_val_x}, {bar_value:,})'\n",
    "        text_x = bar.get_x() + bar.get_width() / 2\n",
    "        text_y = bar.get_y() + bar_value\n",
    "        bar_color = bar.get_facecolor()\n",
    "        bbox_props = dict(boxstyle='round4, pad=0.2', fc=bar_color, lw=0)\n",
    "        ax.text(text_x, text_y + (0.02 * text_y), text, ha='center', va='bottom', color='w', size=8, bbox=bbox_props)\n",
    "    \n",
    "#fig.tight_layout()"
   ]
  },
  {
   "cell_type": "code",
   "execution_count": null,
   "metadata": {},
   "outputs": [],
   "source": [
    "fig = plt.figure(figsize=(20, 6), dpi=100)\n",
    "\n",
    "#####################################\n",
    "## Height Image Distribution       ## \n",
    "#####################################\n",
    "\n",
    "ax = fig.add_subplot(121)\n",
    "\n",
    "idx = [0, 1]\n",
    "labels = ['Train', 'Val']\n",
    "colors = [ucb_palette['berkeley_blue'], ucb_palette['medalist']]\n",
    "\n",
    "for i, l, c in zip(idx, labels, colors):\n",
    "    subset = vizwiz_vis.loc[vizwiz_vis['type'] == i, 'height']\n",
    "    sns.distplot(subset, hist=False, kde=True,\n",
    "                 kde_kws = {'shade': True, 'linewidth': 1, 'color': c}, label=l)\n",
    "\n",
    "# show legend\n",
    "ax.legend()\n",
    "\n",
    "# axis styling\n",
    "ax.set_title('Height Distribution of Images', color = ucb_palette['berkeley_blue'], y = 1.02, \n",
    "    fontsize = 11, fontweight = 'light')\n",
    "ax.set_xlabel('pixels', fontsize = 10, ha='center', color = ucb_palette['berkeley_blue'])\n",
    "ax.set_ylabel('height density', fontsize = 10, ha='center', color = ucb_palette['berkeley_blue'])\n",
    "ax.tick_params(bottom=False, which='major', labelsize=8)\n",
    "ax.yaxis.grid(True, color=ucb_palette['bay_fog'], ls='-.', alpha=0.3)\n",
    "ax.set_axisbelow(True)\n",
    "setSpinesAlphaLineWidth(ax)\n",
    "\n",
    "#####################################\n",
    "## Width Image Distribution        ## \n",
    "#####################################\n",
    "\n",
    "ax = fig.add_subplot(122)\n",
    "\n",
    "for i, l, c in zip(idx, labels, colors):\n",
    "    subset = vizwiz_vis.loc[vizwiz_vis['type'] == i, 'width']\n",
    "    sns.distplot(subset, hist=False, kde=True,\n",
    "                 kde_kws = {'shade': True, 'linewidth': 1, 'color': c}, label=l)\n",
    "\n",
    "# show legend\n",
    "ax.legend()\n",
    "\n",
    "# axis styling\n",
    "ax.set_title('Width Distribution of Images', color = ucb_palette['berkeley_blue'], y = 1.02, \n",
    "    fontsize = 11, fontweight = 'light')\n",
    "ax.set_xlabel('pixels', fontsize = 10, ha='center', color = ucb_palette['berkeley_blue'])\n",
    "ax.set_ylabel('width density', fontsize = 10, ha='center', color = ucb_palette['berkeley_blue'])\n",
    "ax.tick_params(bottom=False, which='major', labelsize=8)\n",
    "ax.yaxis.grid(True, color=ucb_palette['bay_fog'], ls='-.', alpha=0.3)\n",
    "ax.set_axisbelow(True)\n",
    "setSpinesAlphaLineWidth(ax)"
   ]
  }
 ],
 "metadata": {
  "instance_type": "ml.t3.medium",
  "kernelspec": {
   "display_name": "Python 3 (SageMaker JumpStart PyTorch 1.0)",
   "language": "python",
   "name": "python3__SAGEMAKER_INTERNAL__arn:aws:sagemaker:us-west-1:231771061142:image/sagemaker-jumpstart-pytorch-1.0"
  },
  "language_info": {
   "codemirror_mode": {
    "name": "ipython",
    "version": 3
   },
   "file_extension": ".py",
   "mimetype": "text/x-python",
   "name": "python",
   "nbconvert_exporter": "python",
   "pygments_lexer": "ipython3",
   "version": "3.7.10"
  }
 },
 "nbformat": 4,
 "nbformat_minor": 4
}
