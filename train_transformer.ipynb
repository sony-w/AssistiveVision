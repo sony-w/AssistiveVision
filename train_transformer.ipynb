{
 "cells": [
  {
   "cell_type": "code",
   "execution_count": 1,
   "metadata": {},
   "outputs": [
    {
     "data": {
      "text/plain": [
       "['',\n",
       " '/home/ec2-user/anaconda3/envs/pytorch_latest_p36/lib/python36.zip',\n",
       " '/home/ec2-user/anaconda3/envs/pytorch_latest_p36/lib/python3.6',\n",
       " '/home/ec2-user/anaconda3/envs/pytorch_latest_p36/lib/python3.6/lib-dynload',\n",
       " '/home/ec2-user/anaconda3/envs/pytorch_latest_p36/lib/python3.6/site-packages',\n",
       " '/home/ec2-user/anaconda3/envs/pytorch_latest_p36/lib/python3.6/site-packages/IPython/extensions',\n",
       " '/home/ec2-user/.ipython']"
      ]
     },
     "execution_count": 1,
     "metadata": {},
     "output_type": "execute_result"
    }
   ],
   "source": [
    "import sys\n",
    "\n",
    "#sys.path.append('/home/ec2-user/SageMaker/AssistiveVision/coco/PythonAPI')\n",
    "#sys.path.append('/home/ec2-user/SageMaker/AssistiveVision/coco/PythonAPI/pycocotools')\n",
    "sys.path"
   ]
  },
  {
   "cell_type": "code",
   "execution_count": 5,
   "metadata": {},
   "outputs": [
    {
     "name": "stderr",
     "output_type": "stream",
     "text": [
      "[nltk_data] Downloading package punkt to /home/ec2-user/nltk_data...\n",
      "[nltk_data]   Package punkt is already up-to-date!\n"
     ]
    },
    {
     "data": {
      "text/plain": [
       "True"
      ]
     },
     "execution_count": 5,
     "metadata": {},
     "output_type": "execute_result"
    }
   ],
   "source": [
    "#%pip install tqdm cython ipywidgets nltk\n",
    "\n",
    "#import nltk\n",
    "#nltk.download('punkt')\n",
    "\n",
    "#sys.path"
   ]
  },
  {
   "cell_type": "code",
   "execution_count": 2,
   "metadata": {},
   "outputs": [],
   "source": [
    "%load_ext autoreload\n",
    "%autoreload 2\n",
    "\n",
    "import os\n",
    "import string\n",
    "import pandas as pd\n",
    "import numpy as np\n",
    "import torch\n",
    "import json\n",
    "import gc\n",
    "\n",
    "from collections import defaultdict\n",
    "\n",
    "from torchvision import transforms\n",
    "from torch.utils.data import DataLoader\n",
    "from torch.nn.utils.rnn import pack_padded_sequence\n",
    "from tqdm.auto import tqdm\n",
    "\n",
    "from loader.dataset_coco import COCODataset\n",
    "from loader.images import ImageS3\n",
    "from loader.model import ModelS3\n",
    "from commons.utils import embedding_matrix, tensor_to_word_fn\n",
    "from models.seq2seq import Seq2SeqAttention\n",
    "from eval.metrics import bleu, cider, rouge, spice, meteor, bleu_score_fn\n",
    "\n",
    "\n",
    "from IPython.core.display import HTML\n",
    "\n",
    "device = torch.device('cuda:0' if torch.cuda.is_available() else 'cpu')"
   ]
  },
  {
   "cell_type": "code",
   "execution_count": 5,
   "metadata": {},
   "outputs": [
    {
     "name": "stderr",
     "output_type": "stream",
     "text": [
      "[nltk_data] Downloading package punkt to /root/nltk_data...\n",
      "[nltk_data]   Package punkt is already up-to-date!\n"
     ]
    },
    {
     "data": {
      "text/plain": [
       "True"
      ]
     },
     "execution_count": 5,
     "metadata": {},
     "output_type": "execute_result"
    }
   ],
   "source": [
    "train = COCODataset(dtype='train', ret_type='tensor', copy_img_to_mem=False, device=device, partial=100) #\n"
   ]
  }
 ],
 "metadata": {
  "instance_type": "ml.t3.medium",
  "kernelspec": {
   "display_name": "conda_pytorch_latest_p36",
   "language": "python",
   "name": "conda_pytorch_latest_p36"
  },
  "language_info": {
   "codemirror_mode": {
    "name": "ipython",
    "version": 3
   },
   "file_extension": ".py",
   "mimetype": "text/x-python",
   "name": "python",
   "nbconvert_exporter": "python",
   "pygments_lexer": "ipython3",
   "version": "3.6.13"
  }
 },
 "nbformat": 4,
 "nbformat_minor": 4
}
