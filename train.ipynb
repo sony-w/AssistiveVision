{
 "cells": [
  {
   "cell_type": "code",
   "execution_count": 71,
   "metadata": {},
   "outputs": [
    {
     "name": "stdout",
     "output_type": "stream",
     "text": [
      "The autoreload extension is already loaded. To reload it, use:\n",
      "  %reload_ext autoreload\n"
     ]
    }
   ],
   "source": [
    "%load_ext autoreload\n",
    "%autoreload 2\n",
    "\n",
    "import pandas as pd\n",
    "import numpy as np\n",
    "import torch\n",
    "\n",
    "from torchvision import transforms\n",
    "\n",
    "from loader.dataset import VizwizDataset\n",
    "from IPython.core.display import HTML\n",
    "\n",
    "device = torch.device('cuda:0' if torch.cuda.is_available() else 'cpu')\n",
    "\n",
    "# %pip install ipywidgets"
   ]
  },
  {
   "cell_type": "code",
   "execution_count": 72,
   "metadata": {},
   "outputs": [
    {
     "name": "stdout",
     "output_type": "stream",
     "text": [
      "loading annotations into memory...\n",
      "Done (t=0.38s)\n",
      "creating index...\n",
      "index created! imgs = 23431, anns = 100575\n",
      "tokenizing caption... done!!\n"
     ]
    }
   ],
   "source": [
    "train = VizwizDataset(dtype='train', ret_type='tensor', copy_img_to_mem=False, device=device, partial=100)"
   ]
  },
  {
   "cell_type": "code",
   "execution_count": 73,
   "metadata": {},
   "outputs": [],
   "source": [
    "vocabulary = train.getVocab()"
   ]
  },
  {
   "cell_type": "code",
   "execution_count": 75,
   "metadata": {},
   "outputs": [
    {
     "name": "stdout",
     "output_type": "stream",
     "text": [
      "loading annotations into memory...\n",
      "Done (t=0.21s)\n",
      "creating index...\n",
      "index created! imgs = 7750, anns = 33145\n",
      "tokenizing caption... done!!\n"
     ]
    }
   ],
   "source": [
    "val = VizwizDataset(dtype='val', ret_type='tensor', copy_img_to_mem=False, vocabulary=vocabulary, device=device, partial=50)"
   ]
  },
  {
   "cell_type": "code",
   "execution_count": 77,
   "metadata": {},
   "outputs": [
    {
     "name": "stdout",
     "output_type": "stream",
     "text": [
      "loading annotations into memory...\n",
      "Done (t=0.03s)\n",
      "creating index...\n",
      "index created! imgs = 8000, anns = 0\n",
      "no caption found... done!!\n"
     ]
    }
   ],
   "source": [
    "test = VizwizDataset(dtype='test', ret_type='tensor', copy_img_to_mem=False, vocabulary=vocabulary, device=device, partial=50)"
   ]
  },
  {
   "cell_type": "code",
   "execution_count": 81,
   "metadata": {},
   "outputs": [
    {
     "data": {
      "text/plain": [
       "(tensor([[[0.3294, 0.3725, 0.3490,  ..., 0.3216, 0.3451, 0.3529],\n",
       "          [0.3765, 0.3686, 0.3765,  ..., 0.3255, 0.3333, 0.3451],\n",
       "          [0.3608, 0.3725, 0.3686,  ..., 0.3412, 0.3490, 0.3412],\n",
       "          ...,\n",
       "          [0.9490, 0.9647, 0.9804,  ..., 0.9882, 0.9686, 0.9725],\n",
       "          [0.9490, 0.9569, 0.9765,  ..., 0.9725, 0.9725, 0.9725],\n",
       "          [0.9529, 0.9569, 0.9725,  ..., 0.9490, 0.9608, 0.9529]],\n",
       " \n",
       "         [[0.4314, 0.4745, 0.4510,  ..., 0.3412, 0.3608, 0.3686],\n",
       "          [0.4706, 0.4706, 0.4784,  ..., 0.3451, 0.3569, 0.3608],\n",
       "          [0.4549, 0.4667, 0.4706,  ..., 0.3725, 0.3686, 0.3647],\n",
       "          ...,\n",
       "          [1.0000, 1.0000, 1.0000,  ..., 0.9765, 0.9608, 0.9569],\n",
       "          [1.0000, 1.0000, 0.9961,  ..., 0.9608, 0.9569, 0.9569],\n",
       "          [1.0000, 1.0000, 1.0000,  ..., 0.9373, 0.9451, 0.9373]],\n",
       " \n",
       "         [[0.6157, 0.6588, 0.6353,  ..., 0.4627, 0.4745, 0.4824],\n",
       "          [0.6510, 0.6510, 0.6627,  ..., 0.4667, 0.4706, 0.4745],\n",
       "          [0.6353, 0.6471, 0.6510,  ..., 0.4902, 0.4902, 0.4784],\n",
       "          ...,\n",
       "          [0.9804, 0.9804, 0.9843,  ..., 0.8667, 0.8431, 0.8431],\n",
       "          [0.9882, 0.9882, 0.9882,  ..., 0.8510, 0.8431, 0.8431],\n",
       "          [0.9922, 0.9882, 0.9882,  ..., 0.8275, 0.8314, 0.8235]]]),\n",
       " tensor([  9,  11,  10, 277, 292,  11,  10,  10, 229, 331, 277,   5,   7,   0,\n",
       "           0,   0,   0,   0,   0,   0,   0,   0,   0,   0,   0,   0,   0,   0,\n",
       "           0,   0,   0,   0,   0,   0,   0,   0,   0,   0,   0,   0,   0,   0,\n",
       "           0,   0,   0,   0,   0,   0,   0,   0,   0,   0,   0]),\n",
       " 13)"
      ]
     },
     "execution_count": 81,
     "metadata": {},
     "output_type": "execute_result"
    }
   ],
   "source": [
    "val[0]"
   ]
  },
  {
   "cell_type": "code",
   "execution_count": 41,
   "metadata": {},
   "outputs": [
    {
     "name": "stdout",
     "output_type": "stream",
     "text": [
      "loading annotations into memory...\n",
      "Done (t=0.11s)\n",
      "creating index...\n",
      "index created! imgs = 7750, anns = 33145\n"
     ]
    }
   ],
   "source": [
    "from loader import vizwiz as vw\n",
    "\n",
    "vizwiz = vw.VizWiz(annotation_file='annotations/val.json')\n",
    "df = pd.DataFrame.from_dict(vizwiz.dataset['images'], orient='columns')"
   ]
  },
  {
   "cell_type": "code",
   "execution_count": 67,
   "metadata": {},
   "outputs": [
    {
     "data": {
      "text/plain": [
       "False"
      ]
     },
     "execution_count": 67,
     "metadata": {},
     "output_type": "execute_result"
    }
   ],
   "source": [
    "s = df.iloc[0]\n",
    "all([i in s for i in ['row', 'file_name']])"
   ]
  },
  {
   "cell_type": "code",
   "execution_count": 53,
   "metadata": {},
   "outputs": [
    {
     "data": {
      "text/plain": [
       "file_name                                  VizWiz_val_00000000.jpg\n",
       "vizwiz_url       https://ivc.ischool.utexas.edu/VizWiz_visualiz...\n",
       "id                                                           23431\n",
       "text_detected                                                 True\n",
       "Name: 0, dtype: object"
      ]
     },
     "execution_count": 53,
     "metadata": {},
     "output_type": "execute_result"
    }
   ],
   "source": [
    "s"
   ]
  }
 ],
 "metadata": {
  "instance_type": "ml.t3.medium",
  "kernelspec": {
   "display_name": "Python 3 (PyTorch 1.6 Python 3.6 CPU Optimized)",
   "language": "python",
   "name": "python3__SAGEMAKER_INTERNAL__arn:aws:sagemaker:us-east-1:081325390199:image/pytorch-1.6-cpu-py36-ubuntu16.04-v1"
  },
  "language_info": {
   "codemirror_mode": {
    "name": "ipython",
    "version": 3
   },
   "file_extension": ".py",
   "mimetype": "text/x-python",
   "name": "python",
   "nbconvert_exporter": "python",
   "pygments_lexer": "ipython3",
   "version": "3.6.13"
  }
 },
 "nbformat": 4,
 "nbformat_minor": 4
}
